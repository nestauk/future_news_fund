{
 "cells": [
  {
   "cell_type": "code",
   "execution_count": null,
   "metadata": {},
   "outputs": [],
   "source": [
    "import pandas\n",
    "import networkx as nx\n",
    "import numpy\n",
    "import matplotlib.pyplot as plt\n",
    "import json\n",
    "from networkx.drawing.nx_agraph import write_dot, graphviz_layout\n",
    "from graph_tool.all import *\n",
    "from collections import defaultdict"
   ]
  },
  {
   "cell_type": "code",
   "execution_count": null,
   "metadata": {},
   "outputs": [],
   "source": [
    "with open(\"/mnt/c/Users/aotubusen/Documents/DS Projects/future_news_fund/data/interim/britain_place_tree.json\") as f:\n",
    "    data = json.load(f)"
   ]
  },
  {
   "cell_type": "markdown",
   "metadata": {},
   "source": [
    "# Data inspection"
   ]
  },
  {
   "cell_type": "code",
   "execution_count": null,
   "metadata": {},
   "outputs": [],
   "source": [
    "len(data[0]['contains'])"
   ]
  },
  {
   "cell_type": "code",
   "execution_count": null,
   "metadata": {},
   "outputs": [],
   "source": [
    "data[0]['name']"
   ]
  },
  {
   "cell_type": "code",
   "execution_count": null,
   "metadata": {},
   "outputs": [],
   "source": [
    "tree_dict = defaultdict(None)\n",
    "for k in range(len(data)):\n",
    "    \n",
    "    print(\"country: {}\".format(data[k]['name']))\n",
    "    tree_dict[data[k]['name']] = []\n",
    "    for i in range(len(data[k]['contains'])):\n",
    "        \n",
    "        region = data[k]['contains'][i]\n",
    "        tree_dict[data[k]['name']] = region['name']\n",
    "        \n",
    "        print('region: {}'.format(region['name']))\n",
    "\n",
    "        if region['name'] == region['name']:\n",
    "            for j in range(len(region['contains'])):\n",
    "                county=region['contains'][j]['name']\n",
    "                print(\"county: {}\".format(county))\n",
    "#etc...            "
   ]
  },
  {
   "cell_type": "code",
   "execution_count": null,
   "metadata": {},
   "outputs": [],
   "source": [
    "tree_dict"
   ]
  },
  {
   "cell_type": "code",
   "execution_count": null,
   "metadata": {},
   "outputs": [],
   "source": [
    "data[1].keys()"
   ]
  },
  {
   "cell_type": "markdown",
   "metadata": {},
   "source": [
    "# Network graph creation"
   ]
  },
  {
   "cell_type": "code",
   "execution_count": null,
   "metadata": {},
   "outputs": [],
   "source": [
    "G = nx.DiGraph()\n",
    "\n",
    "G.add_node(\"ROOT\")\n",
    "\n",
    "for i in range(5):\n",
    "    G.add_node(\"Child_%i\" % i)\n",
    "    G.add_node(\"Grandchild_%i\" % i)\n",
    "    G.add_node(\"Greatgrandchild_%i\" % i)\n",
    "\n",
    "    G.add_edge(\"ROOT\", \"Child_%i\" % i)\n",
    "    G.add_edge(\"Child_%i\" % i, \"Grandchild_%i\" % i)\n",
    "    G.add_edge(\"Grandchild_%i\" % i, \"Greatgrandchild_%i\" % i)\n",
    "\n",
    "# write dot file to use with graphviz\n",
    "# run \"dot -Tpng test.dot >test.png\"\n",
    "write_dot(G,'test.dot')\n",
    "\n",
    "# same layout using matplotlib with no labels\n",
    "plt.title('draw_networkx')\n",
    "pos =graphviz_layout(G, prog='dot')\n",
    "nx.draw(G, pos, with_labels=False, arrows=True)\n",
    "plt.show()"
   ]
  },
  {
   "cell_type": "code",
   "execution_count": null,
   "metadata": {},
   "outputs": [],
   "source": [
    "# G = nx.DiGraph()\n",
    "# G.add_node('UK')\n",
    "\n",
    "# for k in range(len(data)):\n",
    "    \n",
    "#     G.add_node(data[k]['name'])\n",
    "#     G.add_edge('UK', data[k]['name'])\n",
    "#     # print(\"country: {}\".format(data[0]['name']))\n",
    "# #     tree_dict[data[k]['name']] = []\n",
    "#     for i in range(len(data[k]['contains'])):\n",
    "\n",
    "#         region = data[k]['contains'][i]\n",
    "\n",
    "#         G.add_node(region['name'])\n",
    "#         G.add_edge(data[k]['name'],region['name'])\n",
    "#     #     print('region: {}'.format(region['name']))\n",
    "\n",
    "#         if region['name'] == region['name']:\n",
    "\n",
    "#             for j in range(len(region['contains'])):\n",
    "#                 county=region['contains'][j]['name']\n",
    "#                 G.add_node(county)\n",
    "#                 G.add_edge(region['name'], county)\n",
    "#     #             print(\"county: {}\".format(county))\n",
    "# write_dot(G,'test_1.dot')\n",
    "\n",
    "# plt.figure(figsize=(25,20))\n",
    "# plt.title('draw_networkx')\n",
    "\n",
    "# #\n",
    "# pos =graphviz_layout(G, prog='circo') #circo dot\n",
    "# # pos = nx.spring_layout(G,k=0.3)\n",
    "# nx.draw(G, pos, node_color='yellow', node_size = 50, with_labels=False, arrows=True)\n",
    "# labels = nx.draw_networkx_labels(G, pos, font_size=7)\n",
    "# plt.savefig(\"Graph_test_full.jpg\")\n",
    "# # for _,l in labels.items():\n",
    "# # #     print(l)\n",
    "# #     l.set_rotation(45)\n",
    "# plt.show()\n"
   ]
  },
  {
   "cell_type": "code",
   "execution_count": null,
   "metadata": {},
   "outputs": [],
   "source": [
    "# nx.to_dict_of_dicts(G)"
   ]
  },
  {
   "cell_type": "code",
   "execution_count": null,
   "metadata": {},
   "outputs": [],
   "source": [
    "# nx.to_dict_of_lists(G)"
   ]
  },
  {
   "cell_type": "markdown",
   "metadata": {},
   "source": [
    "## Main Graph"
   ]
  },
  {
   "cell_type": "code",
   "execution_count": null,
   "metadata": {},
   "outputs": [],
   "source": [
    "G = nx.DiGraph()\n",
    "i=0\n",
    "G.add_node('UK')\n",
    "#district_inner_type = []\n",
    "\n",
    "for k in range(len(data)):\n",
    "    if 'contains' in data[k] and (data[k]['type'] == 'COUNTRY'):\n",
    "        country = data[k]\n",
    "        G.add_node(country['name']+'_COUNTRY', type_= country['type'], name_=country['name'])\n",
    "        G.add_edge('UK', country['name']+'_COUNTRY')\n",
    "\n",
    "        for region in country['contains']:\n",
    "    #         print(region['name'])\n",
    "\n",
    "            if 'contains' in region and (region['type'] == 'REGION'):\n",
    "\n",
    "    #             print(region['name'])\n",
    "                G.add_node(region['name']+'_REGION', type_= region['type'], name_=region['name'])\n",
    "                G.add_edge(country['name']+'_COUNTRY',region['name']+'_REGION')\n",
    "                for county in region['contains']:\n",
    "    #                 print(county['name'])\n",
    "\n",
    "\n",
    "                    if 'contains' in county and (county['type'] == 'COUNTY_UNITARY'):\n",
    "\n",
    "                        G.add_node(county['name']+'_COUNTY', type_= county['type'], name_=county['name'])\n",
    "                        G.add_edge(region['name']+'_REGION', county['name']+'_COUNTY')\n",
    "                        for postcode in county['contains']:\n",
    "    #                         print(county['name'])\n",
    "\n",
    "                            if 'contains' in postcode and (postcode['type'] == 'POSTCODE_DISTRICT'):\n",
    "\n",
    "                                G.add_node(postcode['name']+'_POSTCODE', type_= postcode['type'], name_=postcode['name'])\n",
    "                                G.add_edge(county['name']+'_COUNTY', postcode['name']+'_POSTCODE')\n",
    "                    \n",
    "                                for district in postcode['contains']:\n",
    "                                    if 'contains' in district and (district['type'] == 'DISTRICT_BOROUGH'):\n",
    "                                        G.add_node(district['name']+'_DISTRICT', type_= district['type'], name_=district['name'])\n",
    "                                        G.add_edge(postcode['name']+'_POSTCODE', district['name']+'_DISTRICT')\n",
    "    #                                     print(district['name'])\n",
    "\n",
    "                                        for extra in district['contains']:\n",
    "\n",
    "                                            if ((extra['type'] == 'City') or (extra['type'] == 'Hamlet') or (extra['type'] == 'Other Settlement') or (extra['type'] == 'Postcode') or (extra['type'] == 'Suburban Area') or (extra['type'] == 'Town') or (extra['type'] == 'Village')):\n",
    "                                                G.add_node(extra['name']+'_', type_= extra['type'], name_=extra['name'])\n",
    "                                                G.add_edge(district['name']+'_DISTRICT', extra['name']+'_')\n",
    "\n",
    "                                                #district_inner_type.append(extra['type'])\n",
    "                                            else:\n",
    "                                                continue\n",
    "\n",
    "\n",
    "                                    else:\n",
    "                                        continue\n",
    "\n",
    "                            else:\n",
    "                                continue\n",
    "\n",
    "                    else:\n",
    "                        continue\n",
    "\n",
    "            else:\n",
    "                continue\n",
    "                \n",
    "    else:\n",
    "            continue"
   ]
  },
  {
   "cell_type": "markdown",
   "metadata": {},
   "source": [
    "Adding weighted 'weight' attribute to each node- e.g. if Linton appears in 4 different districts, it has a weight of 0.25"
   ]
  },
  {
   "cell_type": "code",
   "execution_count": null,
   "metadata": {},
   "outputs": [],
   "source": [
    "for i in G.nodes:\n",
    "    if i == 'UK':\n",
    "        G.nodes()[i]['weight'] = 1\n",
    "        \n",
    "    else:\n",
    "        G.nodes()[i]['weight'] = 1/G.in_degree()[i]\n",
    "#     print(G.in_degree()[i])"
   ]
  },
  {
   "cell_type": "markdown",
   "metadata": {},
   "source": [
    "---"
   ]
  },
  {
   "cell_type": "code",
   "execution_count": null,
   "metadata": {},
   "outputs": [],
   "source": [
    "len(G.nodes())"
   ]
  },
  {
   "cell_type": "code",
   "execution_count": null,
   "metadata": {},
   "outputs": [],
   "source": [
    "G.nodes()['Linton_']"
   ]
  },
  {
   "cell_type": "code",
   "execution_count": null,
   "metadata": {},
   "outputs": [],
   "source": [
    "# nx.ancestors(G, source='Amber Valley')\n",
    "# nx.descendants(G, source='Amber Valley')"
   ]
  },
  {
   "cell_type": "code",
   "execution_count": null,
   "metadata": {},
   "outputs": [],
   "source": [
    "##to plot network graph\n",
    "\n",
    "# write_dot(G,'test_1_full.dot')\n",
    "\n",
    "# plt.figure(figsize=(25,45))\n",
    "# plt.title('draw_networkx')\n",
    "\n",
    "# #\n",
    "# pos =graphviz_layout(G, prog='dot') #circo dot\n",
    "# # pos = nx.spring_layout(G,k=0.3)\n",
    "# nx.draw(G, pos, node_color='yellow', node_size = 50, with_labels=False, arrows=True)\n",
    "# labels = nx.draw_networkx_labels(G, pos, font_size=7)"
   ]
  },
  {
   "cell_type": "markdown",
   "metadata": {},
   "source": [
    "# Graph to dict_of_list format"
   ]
  },
  {
   "cell_type": "code",
   "execution_count": null,
   "metadata": {},
   "outputs": [],
   "source": [
    "dict_list_graph = nx.to_dict_of_lists(G)"
   ]
  },
  {
   "cell_type": "code",
   "execution_count": null,
   "metadata": {},
   "outputs": [],
   "source": [
    "# dict_list_graph.keys()"
   ]
  }
 ],
 "metadata": {
  "language_info": {
   "name": "python",
   "pygments_lexer": "ipython3"
  }
 },
 "nbformat": 4,
 "nbformat_minor": 2
}
