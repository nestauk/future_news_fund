{
 "cells": [
  {
   "cell_type": "markdown",
   "metadata": {},
   "source": [
    "# Future News analysis\n",
    "\n",
    "Some very crude and preliminary analyses of existing DAPS data informing the proposal\n",
    "\n",
    "I will be provisionally loading data located elsewhere in my computer\n",
    "\n",
    "Some things to do:\n",
    "\n",
    "* How many entities mentioning journalism, media etc appear in arXiv, GtR, CORDIS, CrunchBase?\n",
    "* How many projects related to journalism are there in the 360 Giving data?\n",
    "* How many projects mentioning journalism or involving media organsations can we find in GitHub?\n",
    "* Any quick statistics or analysis based on the US philanthropy data?"
   ]
  },
  {
   "cell_type": "markdown",
   "metadata": {},
   "source": [
    "## Preamble"
   ]
  },
  {
   "cell_type": "code",
   "execution_count": null,
   "metadata": {},
   "outputs": [],
   "source": [
    "%run notebook_preamble.ipy"
   ]
  },
  {
   "cell_type": "markdown",
   "metadata": {},
   "source": [
    "## Load data"
   ]
  },
  {
   "cell_type": "markdown",
   "metadata": {},
   "source": [
    "### arXiv"
   ]
  },
  {
   "cell_type": "code",
   "execution_count": null,
   "metadata": {},
   "outputs": [],
   "source": [
    "arx = pd.read_csv('/Users/jmateosgarcia/Desktop/ai_analysis/ai_analysis/data/external/21_7_2019_arxiv_enriched.csv',compression='zip')"
   ]
  },
  {
   "cell_type": "code",
   "execution_count": null,
   "metadata": {},
   "outputs": [],
   "source": [
    "arx.head()"
   ]
  },
  {
   "cell_type": "code",
   "execution_count": null,
   "metadata": {},
   "outputs": [],
   "source": [
    "# Let's look for these\n",
    "j = [' '+x for x in ['journalis','newspaper','newsmedia','news media', 'news-media','investigative','misinformation','mis-information','local news',\n",
    "    'news reporting','disinformation','mass media','troll','spam']]"
   ]
  },
  {
   "cell_type": "code",
   "execution_count": null,
   "metadata": {},
   "outputs": [],
   "source": [
    "arx['abstract_low'] = [x.lower() for x in arx['abstract']]\n",
    "arx['has_j'] = [any(k in abstract for k in j) for abstract in arx['abstract_low']]"
   ]
  },
  {
   "cell_type": "code",
   "execution_count": null,
   "metadata": {},
   "outputs": [],
   "source": [
    "arx['has_j'].sum()"
   ]
  },
  {
   "cell_type": "markdown",
   "metadata": {},
   "source": [
    "### GtR"
   ]
  },
  {
   "cell_type": "code",
   "execution_count": null,
   "metadata": {},
   "outputs": [],
   "source": [
    "gtr = pd.read_csv('/Users/jmateosgarcia/Desktop/ai_analysis/ai_analysis/data/processed/19_7_2019_gtr_processed.csv',compression='zip')"
   ]
  },
  {
   "cell_type": "code",
   "execution_count": null,
   "metadata": {},
   "outputs": [],
   "source": [
    "gtr['abstract_low']  = [x.lower() for x in gtr['abstract']]\n",
    "\n",
    "gtr['has_j'] = [any(k in abstract for k in j) for abstract in gtr['abstract_low']]"
   ]
  },
  {
   "cell_type": "code",
   "execution_count": null,
   "metadata": {},
   "outputs": [],
   "source": [
    "gtr['has_j'].sum()"
   ]
  },
  {
   "cell_type": "code",
   "execution_count": null,
   "metadata": {},
   "outputs": [],
   "source": [
    "pd.crosstab(gtr['has_j'],gtr[['disc_eng_tech','disc_maths_comp']].applymap(lambda x: x>0.4).sum(axis=1)>0)"
   ]
  },
  {
   "cell_type": "markdown",
   "metadata": {},
   "source": [
    "### CrunchBase"
   ]
  },
  {
   "cell_type": "code",
   "execution_count": null,
   "metadata": {},
   "outputs": [],
   "source": [
    "cb = pd.read_csv('/Users/jmateosgarcia/Desktop/cb/2019-06-21_cb_uk.csv',compression='gzip').dropna(axis=0,subset=['long_description'])"
   ]
  },
  {
   "cell_type": "code",
   "execution_count": null,
   "metadata": {},
   "outputs": [],
   "source": [
    "cb['description_low']  = [x.lower() if pd.isnull(x) == False else np.nan for x in cb['long_description']]\n",
    "\n",
    "cb['has_j'] = [any(k in abstract for k in j) for abstract in cb['description_low']]"
   ]
  },
  {
   "cell_type": "code",
   "execution_count": null,
   "metadata": {},
   "outputs": [],
   "source": [
    "cb['has_j'].sum()"
   ]
  },
  {
   "cell_type": "code",
   "execution_count": null,
   "metadata": {},
   "outputs": [],
   "source": [
    "cb.loc[cb['has_j']>0]['description_low'].head()"
   ]
  },
  {
   "cell_type": "markdown",
   "metadata": {},
   "source": [
    "### Meetup"
   ]
  },
  {
   "cell_type": "code",
   "execution_count": null,
   "metadata": {},
   "outputs": [],
   "source": [
    "from data_getters.meetup import select_meetup\n",
    "\n",
    "dfs = select_meetup(\"/Users/jmateosgarcia/Desktop/ai_analysis/ai_analysis/mysqldb_team.config\",34, \"GB\")\n"
   ]
  },
  {
   "cell_type": "code",
   "execution_count": null,
   "metadata": {},
   "outputs": [],
   "source": [
    "meetup_uk = dfs['core_groups']\n",
    "meetup_uk.shape"
   ]
  },
  {
   "cell_type": "code",
   "execution_count": null,
   "metadata": {},
   "outputs": [],
   "source": [
    "meetup_uk.columns"
   ]
  },
  {
   "cell_type": "code",
   "execution_count": null,
   "metadata": {},
   "outputs": [],
   "source": [
    "meetup_uk['description_low']= [x.lower() for x in meetup_uk['description']]"
   ]
  },
  {
   "cell_type": "code",
   "execution_count": null,
   "metadata": {},
   "outputs": [],
   "source": [
    "meetup_uk['has_j'] = [any(k in abstract for k in j) for abstract in meetup_uk['description_low']]"
   ]
  },
  {
   "cell_type": "code",
   "execution_count": null,
   "metadata": {},
   "outputs": [],
   "source": [
    "meetup_uk['has_j'].sum()"
   ]
  },
  {
   "cell_type": "code",
   "execution_count": null,
   "metadata": {},
   "outputs": [],
   "source": [
    "meetup_uk.loc[meetup_uk['has_j']]['members'].sum()"
   ]
  },
  {
   "cell_type": "code",
   "execution_count": null,
   "metadata": {},
   "outputs": [],
   "source": [
    "meetup_uk.loc[meetup_uk['has_j']>0].head()"
   ]
  },
  {
   "cell_type": "markdown",
   "metadata": {},
   "source": [
    "### 360 degree giving"
   ]
  },
  {
   "cell_type": "code",
   "execution_count": null,
   "metadata": {},
   "outputs": [],
   "source": [
    "grantnav = pd.read_csv('../data/external/grantnav-20190730140359.csv')"
   ]
  },
  {
   "cell_type": "code",
   "execution_count": null,
   "metadata": {},
   "outputs": [],
   "source": [
    "grantnav.head()"
   ]
  },
  {
   "cell_type": "code",
   "execution_count": null,
   "metadata": {},
   "outputs": [],
   "source": [
    "grantnav.shape"
   ]
  },
  {
   "cell_type": "markdown",
   "metadata": {},
   "source": [
    "### GitHub"
   ]
  },
  {
   "cell_type": "code",
   "execution_count": null,
   "metadata": {},
   "outputs": [],
   "source": [
    "import requests\n",
    "\n",
    "from time import sleep"
   ]
  },
  {
   "cell_type": "code",
   "execution_count": null,
   "metadata": {},
   "outputs": [],
   "source": [
    "count = []\n",
    "content = {}\n",
    "\n",
    "for t in ['journalism','newspaper','misinformation','fake news','local news','mass media','news media']:\n",
    "    \n",
    "    sleep(1)\n",
    "    \n",
    "    t = re.sub(' ','+',t)\n",
    "    \n",
    "    print(t)\n",
    "    \n",
    "    r = json.loads(requests.get(f'https://api.github.com/search/repositories?q={t}').content)\n",
    "    \n",
    "    count.append(r['total_count'])\n",
    "    \n",
    "    content[t]=r['items']"
   ]
  },
  {
   "cell_type": "code",
   "execution_count": null,
   "metadata": {},
   "outputs": [],
   "source": [
    "count"
   ]
  },
  {
   "cell_type": "markdown",
   "metadata": {},
   "source": [
    "### A couple of American philantropies\n",
    "\n",
    "* MacArthur foundation Journalism and Media: [link]('https://www.macfound.org/grants/?program=13')\n",
    "* Knight Foundation: [link](https://knightfoundation.org/grants)\n"
   ]
  },
  {
   "cell_type": "code",
   "execution_count": null,
   "metadata": {},
   "outputs": [],
   "source": []
  }
 ],
 "metadata": {
  "language_info": {
   "name": "python",
   "pygments_lexer": "ipython3"
  }
 },
 "nbformat": 4,
 "nbformat_minor": 2
}
