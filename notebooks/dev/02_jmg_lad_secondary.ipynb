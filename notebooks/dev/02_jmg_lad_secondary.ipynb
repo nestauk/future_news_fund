{
 "cells": [
  {
   "cell_type": "markdown",
   "metadata": {},
   "source": [
    "## Collect additional LAD  data for journalism analysis.\n",
    "\n",
    "This includes:\n",
    "\n",
    "* Population data\n",
    "* Economic activity (eg unemployment)\n",
    "* Health\n",
    "* Education\n",
    "* Crime\n",
    "\n"
   ]
  },
  {
   "cell_type": "markdown",
   "metadata": {},
   "source": [
    "### Preamble\n",
    "\n"
   ]
  },
  {
   "cell_type": "code",
   "execution_count": null,
   "metadata": {},
   "outputs": [],
   "source": [
    "%run ../notebook_preamble.ipy"
   ]
  },
  {
   "cell_type": "markdown",
   "metadata": {},
   "source": [
    "### Load data"
   ]
  },
  {
   "cell_type": "markdown",
   "metadata": {},
   "source": [
    "#### Population\n",
    "\n",
    "We use the NOMIS API from [here](https://www.nomisweb.co.uk/datasets/pestsyoala)"
   ]
  },
  {
   "cell_type": "code",
   "execution_count": null,
   "metadata": {},
   "outputs": [],
   "source": [
    "lad_pop = pd.read_csv('https://www.nomisweb.co.uk/api/v01/dataset/NM_2002_1.data.csv?geography=1820327937...1820328318&date=latestMINUS1-latest&gender=0&c_age=200,209&measures=20100')"
   ]
  },
  {
   "cell_type": "code",
   "execution_count": null,
   "metadata": {},
   "outputs": [],
   "source": [
    "lad_pop.head()"
   ]
  },
  {
   "cell_type": "code",
   "execution_count": null,
   "metadata": {},
   "outputs": [],
   "source": [
    "lad_pop.columns = [x.lower() for x in lad_pop.columns]"
   ]
  },
  {
   "cell_type": "code",
   "execution_count": null,
   "metadata": {},
   "outputs": [],
   "source": [
    "lad_pop.columns"
   ]
  },
  {
   "cell_type": "code",
   "execution_count": null,
   "metadata": {},
   "outputs": [],
   "source": [
    "# We are interested in the date name, the geography name, the age name and the observed value"
   ]
  },
  {
   "cell_type": "code",
   "execution_count": null,
   "metadata": {},
   "outputs": [],
   "source": [
    "my_vars = ['date_name','geography_name','c_age_name','obs_value','geography_code']\n",
    "\n"
   ]
  },
  {
   "cell_type": "code",
   "execution_count": null,
   "metadata": {},
   "outputs": [],
   "source": [
    "distr = lad_pop[my_vars].loc[lad_pop['date_name']==2017].pivot(index='geography_name',columns='c_age_name',values='obs_value')\n",
    "\n",
    "distr.columns = ['age_over_65','age_all']\n",
    "\n",
    "distr['age_over_65_share'] = distr['age_over_65']/distr['age_all']"
   ]
  },
  {
   "cell_type": "markdown",
   "metadata": {},
   "source": [
    "#### Also download longitudinal population data to meaure number of journalists per capita"
   ]
  },
  {
   "cell_type": "code",
   "execution_count": null,
   "metadata": {},
   "outputs": [],
   "source": [
    "lad_pop_long_url = 'https://www.nomisweb.co.uk/api/v01/dataset/NM_2002_1.data.csv?geography=1820327937...1820328318&date=latestMINUS9-latest&gender=0&c_age=200&measures=20100'\n",
    "\n",
    "pop_long = pd.read_csv(lad_pop_long_url)\n",
    "\n",
    "pop_long.columns = [x.lower() for x in pop_long.columns]"
   ]
  },
  {
   "cell_type": "code",
   "execution_count": null,
   "metadata": {},
   "outputs": [],
   "source": [
    "pop_long_selected = pop_long[['date_name','geography_name','geography_code','obs_value']]\n",
    "\n",
    "pop_long_selected.to_csv(f'../../data/processed/{today_str}_lad_pop_longitudinal.csv',index_label=False)"
   ]
  },
  {
   "cell_type": "markdown",
   "metadata": {},
   "source": [
    "#### Economic activity and education\n",
    "\n",
    "We obtain this from [here]()"
   ]
  },
  {
   "cell_type": "code",
   "execution_count": null,
   "metadata": {},
   "outputs": [],
   "source": [
    "econ = pd.read_csv('https://www.nomisweb.co.uk/api/v01/dataset/NM_17_5.data.csv?geography=1946157057...1946157436&date=latestMINUS5&variable=18,45,83,111,1487,290,344&measures=20599,21001,21002,21003')"
   ]
  },
  {
   "cell_type": "code",
   "execution_count": null,
   "metadata": {},
   "outputs": [],
   "source": [
    "econ.columns = [x.lower() for x in econ.columns]"
   ]
  },
  {
   "cell_type": "code",
   "execution_count": null,
   "metadata": {},
   "outputs": [],
   "source": [
    "econ.columns"
   ]
  },
  {
   "cell_type": "code",
   "execution_count": null,
   "metadata": {},
   "outputs": [],
   "source": [
    "econ['variable_name'].value_counts()"
   ]
  },
  {
   "cell_type": "code",
   "execution_count": null,
   "metadata": {},
   "outputs": [],
   "source": [
    "econ_vars = ['date_name','geography_name','geography_code','variable_name','measures_name','obs_value']\n",
    "\n",
    "#Focus on variable instead of the numerator / denominator / confidence interval\n",
    "\n",
    "econ_val = econ.loc[econ['measures_name']=='Variable'][econ_vars].reset_index(drop=True)"
   ]
  },
  {
   "cell_type": "code",
   "execution_count": null,
   "metadata": {},
   "outputs": [],
   "source": [
    "econ_wide = econ_val.pivot_table(index='geography_name',columns='variable_name',values='obs_value')"
   ]
  },
  {
   "cell_type": "code",
   "execution_count": null,
   "metadata": {},
   "outputs": [],
   "source": [
    "econ_wide.columns = ['inactive_want_job_pc','inactive_pc','education_tertiary_pc',\n",
    "                     'education_no_qual_pc',\n",
    "                     'activity_rate_pc','employment_rate_pc','unemployment_rate_pc']"
   ]
  },
  {
   "cell_type": "markdown",
   "metadata": {},
   "source": [
    "#### Health\n",
    "\n",
    "We obtain this from [here](https://fingertips.phe.org.uk/profile/health-profiles/data#page/9/gid/1938132696/pat/6/par/E12000004/ati/101/are/E07000032)"
   ]
  },
  {
   "cell_type": "code",
   "execution_count": null,
   "metadata": {},
   "outputs": [],
   "source": [
    "health = pd.read_csv('../../data/external/indicators-DistrictUApre419.data.csv')"
   ]
  },
  {
   "cell_type": "code",
   "execution_count": null,
   "metadata": {},
   "outputs": [],
   "source": [
    "health.shape"
   ]
  },
  {
   "cell_type": "code",
   "execution_count": null,
   "metadata": {},
   "outputs": [],
   "source": [
    "health.columns = [re.sub(' ','_',x.lower()) for x in health.columns]"
   ]
  },
  {
   "cell_type": "code",
   "execution_count": null,
   "metadata": {},
   "outputs": [],
   "source": [
    "health.columns"
   ]
  },
  {
   "cell_type": "code",
   "execution_count": null,
   "metadata": {},
   "outputs": [],
   "source": [
    "health.area_type.value_counts()"
   ]
  },
  {
   "cell_type": "code",
   "execution_count": null,
   "metadata": {},
   "outputs": [],
   "source": [
    "health.indicator_name.value_counts()"
   ]
  },
  {
   "cell_type": "markdown",
   "metadata": {},
   "source": [
    "There is variation in the periods for which the data is available. We will select some variables of interest and get appropriate years for them"
   ]
  },
  {
   "cell_type": "code",
   "execution_count": null,
   "metadata": {},
   "outputs": [],
   "source": [
    "vars_of_interest = [\n",
    "    #'Life expectancy at birth',\n",
    "    'Under 75 mortality rate: all causes',\n",
    "    'Suicide rate',\n",
    "    #'Inequality in life expectancy at birth',\n",
    "    'Infant mortality',\n",
    "    'Violent crime (including sexual violence) - violence offences per 1,000 population',\n",
    "    'Average Attainment 8 score',\n",
    "    'Deprivation score (IMD 2015)',\n",
    "    'Statutory homelessness - Eligible homeless people not in priority need']"
   ]
  },
  {
   "cell_type": "code",
   "execution_count": null,
   "metadata": {},
   "outputs": [],
   "source": [
    "years_of_interest = [\n",
    "    #'2015 - 17',\n",
    "    '2015 - 17',\n",
    "    '2015 - 17',\n",
    "    #'2015 - 17',\n",
    "    '2015 - 17','2016/17','2015/16','2015','2016/17']"
   ]
  },
  {
   "cell_type": "code",
   "execution_count": null,
   "metadata": {},
   "outputs": [],
   "source": [
    "health_container = []\n",
    "\n",
    "for n,v in enumerate(vars_of_interest):\n",
    "    \n",
    "    out = health.loc[(health['indicator_name']==v)&(health['time_period']==years_of_interest[n])\n",
    "          & (health['area_type']=='District & UA (pre 4/19)') & ((health['sex']=='Persons'))].set_index('area_name')\n",
    "    \n",
    "    out_rel = out['value']\n",
    "    \n",
    "    out_rel.name = v\n",
    "    \n",
    "    health_container.append(out_rel)\n",
    "    #health_container.append(out[['indicator_name','value']])\n",
    "        \n",
    "    \n",
    "    \n",
    "    \n",
    "    \n",
    "    \n"
   ]
  },
  {
   "cell_type": "code",
   "execution_count": null,
   "metadata": {},
   "outputs": [],
   "source": [
    "clean = {'Bournemouth':,\n",
    "         'Christchurch':, \n",
    "         'East Dorset':, \n",
    "         'Forest Heath:', \n",
    "         'North Dorset':, \n",
    "         'Poole':, \n",
    "         'Purbeck':, \n",
    "         'St Edmundsbury':, \n",
    "         'Suffolk Coastal':, \n",
    "         'Taunton Deane':, \n",
    "         'Waveney':, \n",
    "         'West Dorset':, \n",
    "         'West Somerset':, \n",
    "         'Weymouth and Portland': \n",
    "}"
   ]
  },
  {
   "cell_type": "code",
   "execution_count": null,
   "metadata": {},
   "outputs": [],
   "source": [
    "health_df = pd.concat(health_container,axis=1)\n",
    "\n",
    "\n",
    "clean_health_lad_lookup = {'Bristol':'Bristol, City of',\n",
    "             'Folkestone & Hythe':'Folkestone and Hythe',\n",
    "              'Herefordshire':'Herefordshire, County of',\n",
    "              'Kingston upon Hull':'Kingston upon Hull, City of',\n",
    "              'St. Edmundsbury':'St Edmundsbury'\n",
    "                           \n",
    "                           \n",
    "                           \n",
    "                           \n",
    "             }\n",
    "health_df.index = [clean_health_lad_lookup[x] if x in clean_health_lad_lookup.keys() else x for x in health_df.index]"
   ]
  },
  {
   "cell_type": "code",
   "execution_count": null,
   "metadata": {},
   "outputs": [],
   "source": [
    "health_df.columns = ['mortality_rate','suicide_rate','infant_mortality','violent_crime_per_1000','average_atainment','deprivation_score','statutory_homelessness']"
   ]
  },
  {
   "cell_type": "markdown",
   "metadata": {},
   "source": [
    "### Brexit data\n",
    "\n",
    "Accessed from [here](https://www.electoralcommission.org.uk/who-we-are-and-what-we-do/elections-and-referendums/past-elections-and-referendums/eu-referendum/results-and-turnout-eu-referendum)"
   ]
  },
  {
   "cell_type": "code",
   "execution_count": null,
   "metadata": {},
   "outputs": [],
   "source": [
    "brex = pd.read_csv('https://www.electoralcommission.org.uk/sites/default/files/2019-07/EU-referendum-result-data.csv')"
   ]
  },
  {
   "cell_type": "code",
   "execution_count": null,
   "metadata": {},
   "outputs": [],
   "source": [
    "brex.columns = [re.sub(' ','_',x.lower()) for x in brex.columns]"
   ]
  },
  {
   "cell_type": "code",
   "execution_count": null,
   "metadata": {},
   "outputs": [],
   "source": [
    "brex['leave_share'] = brex['leave']/brex['votes_cast']"
   ]
  },
  {
   "cell_type": "code",
   "execution_count": null,
   "metadata": {},
   "outputs": [],
   "source": [
    "brex = brex[['area','leave_share']].set_index('area')"
   ]
  },
  {
   "cell_type": "markdown",
   "metadata": {},
   "source": [
    "### Output"
   ]
  },
  {
   "cell_type": "markdown",
   "metadata": {},
   "source": [
    "Check potential issues with indices"
   ]
  },
  {
   "cell_type": "code",
   "execution_count": null,
   "metadata": {},
   "outputs": [],
   "source": [
    "from itertools import combinations,permutations"
   ]
  },
  {
   "cell_type": "code",
   "execution_count": null,
   "metadata": {},
   "outputs": [],
   "source": [
    "def missing_indices(dict_of_dfs):\n",
    "    \n",
    "    '''\n",
    "    \n",
    "    Returns disjoint indices between the dfs. Useful when merging\n",
    "    \n",
    "    \n",
    "    '''\n",
    "    \n",
    "    combs = list(combinations(dict_of_dfs.keys(),2))\n",
    "    \n",
    "    for c in combs:\n",
    "        \n",
    "        print(f'{c[0]} and {c[1]}')\n",
    "        print('====')\n",
    "\n",
    "        print('\\n')\n",
    "        \n",
    "        print(f'Disjoint {c[0]}-{c[1]}')\n",
    "        print('---')\n",
    "        disj = set(dict_of_dfs[c[0]].index)-set(dict_of_dfs[c[1]].index)\n",
    "        print(sorted(list(disj)))\n",
    "        \n",
    "        print('\\n')\n",
    "        \n",
    "        print(f'Disjoint {c[1]}-{c[0]}')\n",
    "        print('---')\n",
    "        \n",
    "        disj = set(dict_of_dfs[c[1]].index)-set(dict_of_dfs[c[0]].index)\n",
    "        print(sorted(list(disj)))\n",
    "        \n",
    "        print('\\n')\n",
    "        \n",
    "        \n",
    "            \n",
    "        \n",
    "    "
   ]
  },
  {
   "cell_type": "code",
   "execution_count": null,
   "metadata": {},
   "outputs": [],
   "source": [
    "dict_of_dfs = {'pop':distr,'econ':econ_wide,'health':health_df,'brex':brex}"
   ]
  },
  {
   "cell_type": "code",
   "execution_count": null,
   "metadata": {},
   "outputs": [],
   "source": [
    "missing_indices(dict_of_dfs)"
   ]
  },
  {
   "cell_type": "markdown",
   "metadata": {},
   "source": [
    "Some of the gaps here seem to be due to changes in boundaries of LADs eg check Bournemouth & Poole"
   ]
  },
  {
   "cell_type": "code",
   "execution_count": null,
   "metadata": {},
   "outputs": [],
   "source": [
    "output = pd.concat([distr,econ_wide,health_df,brex],axis=1)\n",
    "\n",
    "output"
   ]
  },
  {
   "cell_type": "code",
   "execution_count": null,
   "metadata": {},
   "outputs": [],
   "source": [
    "output.to_csv(f'../../data/processed/{today_str}_secondary_data.csv')"
   ]
  },
  {
   "cell_type": "code",
   "execution_count": null,
   "metadata": {},
   "outputs": [],
   "source": [
    "import seaborn as sns"
   ]
  },
  {
   "cell_type": "code",
   "execution_count": null,
   "metadata": {},
   "outputs": [],
   "source": [
    "sns.clustermap(output.corr(),cmap='bwr')"
   ]
  },
  {
   "cell_type": "code",
   "execution_count": null,
   "metadata": {},
   "outputs": [],
   "source": []
  }
 ],
 "metadata": {
  "language_info": {
   "name": "python",
   "pygments_lexer": "ipython3"
  }
 },
 "nbformat": 4,
 "nbformat_minor": 2
}
